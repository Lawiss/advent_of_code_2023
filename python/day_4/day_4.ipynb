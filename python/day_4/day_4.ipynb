{
 "cells": [
  {
   "cell_type": "code",
   "execution_count": 44,
   "id": "996a870a-af52-4971-8c61-08de6d412227",
   "metadata": {
    "tags": []
   },
   "outputs": [],
   "source": [
    "from collections import defaultdict"
   ]
  },
  {
   "cell_type": "code",
   "execution_count": 36,
   "id": "97db21d2-e8f3-46ca-af7d-2784e7ffc9c9",
   "metadata": {
    "tags": []
   },
   "outputs": [],
   "source": [
    "with open(\"input.txt\") as f:\n",
    "    lines = f.read().splitlines()"
   ]
  },
  {
   "cell_type": "code",
   "execution_count": 42,
   "id": "021a52d2-9419-4599-a418-d3b2c64e1633",
   "metadata": {
    "tags": []
   },
   "outputs": [],
   "source": [
    "EXAMPLE_DATA = \"\"\"Card 1: 41 48 83 86 17 | 83 86  6 31 17  9 48 53\n",
    "Card 2: 13 32 20 16 61 | 61 30 68 82 17 32 24 19\n",
    "Card 3:  1 21 53 59 44 | 69 82 63 72 16 21 14  1\n",
    "Card 4: 41 92 73 84 69 | 59 84 76 51 58  5 54 83\n",
    "Card 5: 87 83 26 28 32 | 88 30 70 12 93 22 82 36\n",
    "Card 6: 31 18 13 56 72 | 74 77 10 23 35 67 36 11\"\"\".split(\n",
    "    \"\\n\"\n",
    ")"
   ]
  },
  {
   "cell_type": "code",
   "execution_count": 43,
   "id": "d2b048c9-2206-48ef-9525-187c9d2fa169",
   "metadata": {
    "tags": []
   },
   "outputs": [
    {
     "data": {
      "text/plain": [
       "['Card 1: 41 48 83 86 17 | 83 86  6 31 17  9 48 53',\n",
       " 'Card 2: 13 32 20 16 61 | 61 30 68 82 17 32 24 19',\n",
       " 'Card 3:  1 21 53 59 44 | 69 82 63 72 16 21 14  1',\n",
       " 'Card 4: 41 92 73 84 69 | 59 84 76 51 58  5 54 83',\n",
       " 'Card 5: 87 83 26 28 32 | 88 30 70 12 93 22 82 36',\n",
       " 'Card 6: 31 18 13 56 72 | 74 77 10 23 35 67 36 11']"
      ]
     },
     "execution_count": 43,
     "metadata": {},
     "output_type": "execute_result"
    }
   ],
   "source": [
    "EXAMPLE_DATA"
   ]
  },
  {
   "cell_type": "markdown",
   "id": "87ff0da6-3504-4224-b1f8-1ebaddc63718",
   "metadata": {
    "tags": []
   },
   "source": [
    "# Part 1"
   ]
  },
  {
   "cell_type": "code",
   "execution_count": 37,
   "id": "91118b70-05e7-42f3-b087-6224a45373d5",
   "metadata": {
    "tags": []
   },
   "outputs": [],
   "source": [
    "total = 0\n",
    "for line in lines:\n",
    "    left, right = line.split(\" | \")\n",
    "    winning_numbers = set(regex.split(r\" +\", left.split(\":\")[1].strip()))\n",
    "    sampled_numbers = set(regex.split(r\" +\", right.strip()))\n",
    "\n",
    "    num_matching = len(winning_numbers & sampled_numbers)\n",
    "    if num_matching > 0:\n",
    "        total += 2 ** (num_matching - 1)"
   ]
  },
  {
   "cell_type": "code",
   "execution_count": 38,
   "id": "f5fc5023-ada8-4acc-8f7e-41d4dd43867f",
   "metadata": {
    "tags": []
   },
   "outputs": [
    {
     "data": {
      "text/plain": [
       "26914"
      ]
     },
     "execution_count": 38,
     "metadata": {},
     "output_type": "execute_result"
    }
   ],
   "source": [
    "total"
   ]
  },
  {
   "cell_type": "markdown",
   "id": "fae7486b-2721-4b9c-ae60-ba65b6577964",
   "metadata": {},
   "source": [
    "# Part 2"
   ]
  },
  {
   "cell_type": "code",
   "execution_count": 89,
   "id": "e1e60aa5-7a61-4c1b-976f-293a17c861eb",
   "metadata": {
    "scrolled": true,
    "tags": []
   },
   "outputs": [],
   "source": [
    "card_sets = defaultdict(dict)\n",
    "for i, line in enumerate(lines):\n",
    "    left, right = line.split(\" | \")\n",
    "    winning_numbers = set(regex.split(r\" +\", left.split(\":\")[1].strip()))\n",
    "    sampled_numbers = set(regex.split(r\" +\", right.strip()))\n",
    "\n",
    "    num_matching = len(winning_numbers & sampled_numbers)\n",
    "\n",
    "    card_set = card_sets[i]\n",
    "    card_set[\"total\"] = card_set.get(\"total\", 0) + 1\n",
    "\n",
    "    card_sets[i] = card_set\n",
    "\n",
    "    for z in range(card_set[\"total\"]):\n",
    "        for j in range(i, i + num_matching):\n",
    "            if \"total\" in card_sets[j + 1]:\n",
    "                card_sets[j + 1][\"total\"] += 1\n",
    "            else:\n",
    "                card_sets[j + 1][\"total\"] = 1"
   ]
  },
  {
   "cell_type": "code",
   "execution_count": 90,
   "id": "4590a795-d7f5-4010-9225-5cd191721bf8",
   "metadata": {
    "scrolled": true,
    "tags": []
   },
   "outputs": [
    {
     "data": {
      "text/plain": [
       "defaultdict(dict,\n",
       "            {0: {'total': 1},\n",
       "             1: {'total': 2},\n",
       "             2: {'total': 4},\n",
       "             3: {'total': 8},\n",
       "             4: {'total': 16},\n",
       "             5: {'total': 32},\n",
       "             6: {'total': 64},\n",
       "             7: {'total': 128},\n",
       "             8: {'total': 252},\n",
       "             9: {'total': 472},\n",
       "             10: {'total': 944},\n",
       "             11: {'total': 1887},\n",
       "             12: {'total': 3772},\n",
       "             13: {'total': 6600},\n",
       "             14: {'total': 9420},\n",
       "             15: {'total': 16937},\n",
       "             16: {'total': 33402},\n",
       "             17: {'total': 33338},\n",
       "             18: {'total': 66548},\n",
       "             19: {'total': 123424},\n",
       "             20: {'total': 229911},\n",
       "             21: {'total': 269850},\n",
       "             22: {'total': 539700},\n",
       "             23: {'total': 816151},\n",
       "             24: {'total': 1625702},\n",
       "             25: {'total': 1},\n",
       "             26: {'total': 2},\n",
       "             27: {'total': 2},\n",
       "             28: {'total': 4},\n",
       "             29: {'total': 8},\n",
       "             30: {'total': 16},\n",
       "             31: {'total': 30},\n",
       "             32: {'total': 60},\n",
       "             33: {'total': 120},\n",
       "             34: {'total': 180},\n",
       "             35: {'total': 356},\n",
       "             36: {'total': 347},\n",
       "             37: {'total': 694},\n",
       "             38: {'total': 1388},\n",
       "             39: {'total': 875},\n",
       "             40: {'total': 1},\n",
       "             41: {'total': 2},\n",
       "             42: {'total': 4},\n",
       "             43: {'total': 8},\n",
       "             44: {'total': 16},\n",
       "             45: {'total': 32},\n",
       "             46: {'total': 64},\n",
       "             47: {'total': 128},\n",
       "             48: {'total': 256},\n",
       "             49: {'total': 512},\n",
       "             50: {'total': 1024},\n",
       "             51: {'total': 1999},\n",
       "             52: {'total': 3996},\n",
       "             53: {'total': 7732},\n",
       "             54: {'total': 15456},\n",
       "             55: {'total': 28273},\n",
       "             56: {'total': 56546},\n",
       "             57: {'total': 93576},\n",
       "             58: {'total': 187152},\n",
       "             59: {'total': 346031},\n",
       "             60: {'total': 533184},\n",
       "             61: {'total': 1},\n",
       "             62: {'total': 2},\n",
       "             63: {'total': 3},\n",
       "             64: {'total': 6},\n",
       "             65: {'total': 12},\n",
       "             66: {'total': 24},\n",
       "             67: {'total': 48},\n",
       "             68: {'total': 96},\n",
       "             69: {'total': 192},\n",
       "             70: {'total': 384},\n",
       "             71: {'total': 766},\n",
       "             72: {'total': 1520},\n",
       "             73: {'total': 3037},\n",
       "             74: {'total': 6074},\n",
       "             75: {'total': 11638},\n",
       "             76: {'total': 23276},\n",
       "             77: {'total': 21756},\n",
       "             78: {'total': 43464},\n",
       "             79: {'total': 83891},\n",
       "             80: {'total': 167590},\n",
       "             81: {'total': 174431},\n",
       "             82: {'total': 1},\n",
       "             83: {'total': 2},\n",
       "             84: {'total': 4},\n",
       "             85: {'total': 8},\n",
       "             86: {'total': 14},\n",
       "             87: {'total': 28},\n",
       "             88: {'total': 56},\n",
       "             89: {'total': 112},\n",
       "             90: {'total': 220},\n",
       "             91: {'total': 432},\n",
       "             92: {'total': 682},\n",
       "             93: {'total': 1363},\n",
       "             94: {'total': 2726},\n",
       "             95: {'total': 5452},\n",
       "             96: {'total': 6815},\n",
       "             97: {'total': 13630},\n",
       "             98: {'total': 27232},\n",
       "             99: {'total': 48580},\n",
       "             100: {'total': 96478},\n",
       "             101: {'total': 82628},\n",
       "             102: {'total': 138024},\n",
       "             103: {'total': 1},\n",
       "             104: {'total': 2},\n",
       "             105: {'total': 4},\n",
       "             106: {'total': 8},\n",
       "             107: {'total': 16},\n",
       "             108: {'total': 32},\n",
       "             109: {'total': 64},\n",
       "             110: {'total': 96},\n",
       "             111: {'total': 176},\n",
       "             112: {'total': 352},\n",
       "             113: {'total': 608},\n",
       "             114: {'total': 1215},\n",
       "             115: {'total': 1644},\n",
       "             116: {'total': 3284},\n",
       "             117: {'total': 6560},\n",
       "             118: {'total': 13056},\n",
       "             119: {'total': 26112},\n",
       "             120: {'total': 51872},\n",
       "             121: {'total': 102529},\n",
       "             122: {'total': 196854},\n",
       "             123: {'total': 26113},\n",
       "             124: {'total': 1},\n",
       "             125: {'total': 2},\n",
       "             126: {'total': 3},\n",
       "             127: {'total': 6},\n",
       "             128: {'total': 12},\n",
       "             129: {'total': 24},\n",
       "             130: {'total': 48},\n",
       "             131: {'total': 96},\n",
       "             132: {'total': 186},\n",
       "             133: {'total': 372},\n",
       "             134: {'total': 744},\n",
       "             135: {'total': 1488},\n",
       "             136: {'total': 2950},\n",
       "             137: {'total': 5897},\n",
       "             138: {'total': 8844},\n",
       "             139: {'total': 8598},\n",
       "             140: {'total': 15708},\n",
       "             141: {'total': 31416},\n",
       "             142: {'total': 47028},\n",
       "             143: {'total': 94056},\n",
       "             144: {'total': 147726},\n",
       "             145: {'total': 288811},\n",
       "             146: {'total': 436538},\n",
       "             147: {'total': 1},\n",
       "             148: {'total': 2},\n",
       "             149: {'total': 4},\n",
       "             150: {'total': 8},\n",
       "             151: {'total': 16},\n",
       "             152: {'total': 30},\n",
       "             153: {'total': 60},\n",
       "             154: {'total': 120},\n",
       "             155: {'total': 240},\n",
       "             156: {'total': 479},\n",
       "             157: {'total': 958},\n",
       "             158: {'total': 1916},\n",
       "             159: {'total': 3832},\n",
       "             160: {'total': 7660},\n",
       "             161: {'total': 14114},\n",
       "             162: {'total': 4402},\n",
       "             163: {'total': 4882},\n",
       "             164: {'total': 9764},\n",
       "             165: {'total': 19528},\n",
       "             166: {'total': 34175},\n",
       "             167: {'total': 1},\n",
       "             168: {'total': 2},\n",
       "             169: {'total': 4},\n",
       "             170: {'total': 8},\n",
       "             171: {'total': 16},\n",
       "             172: {'total': 32},\n",
       "             173: {'total': 64},\n",
       "             174: {'total': 128},\n",
       "             175: {'total': 192},\n",
       "             176: {'total': 384},\n",
       "             177: {'total': 736},\n",
       "             178: {'total': 1467},\n",
       "             179: {'total': 2908},\n",
       "             180: {'total': 5080},\n",
       "             181: {'total': 10160},\n",
       "             182: {'total': 19936},\n",
       "             183: {'total': 29520},\n",
       "             184: {'total': 59040},\n",
       "             185: {'total': 117952},\n",
       "             186: {'total': 206384},\n",
       "             187: {'total': 24312},\n",
       "             188: {'total': 22845},\n",
       "             189: {'total': 1},\n",
       "             190: {'total': 2},\n",
       "             191: {'total': 4},\n",
       "             192: {'total': 8},\n",
       "             193: {'total': 16},\n",
       "             194: {'total': 32},\n",
       "             195: {'total': 64},\n",
       "             196: {'total': 128},\n",
       "             197: {'total': 224},\n",
       "             198: {'total': 431},\n",
       "             199: {'total': 862},\n",
       "             200: {'total': 1724},\n",
       "             201: {'total': 3446},\n",
       "             202: {'total': 6824},\n",
       "             203: {'total': 13640},\n",
       "             204: {'total': 26418},\n",
       "             205: {'total': 52836},\n",
       "             206: {'total': 102226},\n",
       "             207: {'total': 190460},\n",
       "             208: {'total': 379196},\n",
       "             209: {'total': 731543},\n",
       "             210: {'total': 1272626},\n",
       "             211: {'total': 1265802},\n",
       "             212: {'total': 886606}})"
      ]
     },
     "execution_count": 90,
     "metadata": {},
     "output_type": "execute_result"
    }
   ],
   "source": [
    "card_sets"
   ]
  },
  {
   "cell_type": "code",
   "execution_count": 91,
   "id": "f87cb9b7-7733-47a4-9d10-2b5c128274f8",
   "metadata": {
    "tags": []
   },
   "outputs": [
    {
     "data": {
      "text/plain": [
       "13080971"
      ]
     },
     "execution_count": 91,
     "metadata": {},
     "output_type": "execute_result"
    }
   ],
   "source": [
    "total = 0\n",
    "for card_set in card_sets.values():\n",
    "    total += card_set[\"total\"]\n",
    "total"
   ]
  },
  {
   "cell_type": "code",
   "execution_count": null,
   "id": "fc1ba7e3-c941-4172-a75c-378e3966d34e",
   "metadata": {},
   "outputs": [],
   "source": []
  }
 ],
 "metadata": {
  "kernelspec": {
   "display_name": "Python [conda env:aoc_py311]",
   "language": "python",
   "name": "conda-env-aoc_py311-py"
  },
  "language_info": {
   "codemirror_mode": {
    "name": "ipython",
    "version": 3
   },
   "file_extension": ".py",
   "mimetype": "text/x-python",
   "name": "python",
   "nbconvert_exporter": "python",
   "pygments_lexer": "ipython3",
   "version": "3.11.6"
  }
 },
 "nbformat": 4,
 "nbformat_minor": 5
}

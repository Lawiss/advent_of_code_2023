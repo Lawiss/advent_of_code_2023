{
 "cells": [
  {
   "cell_type": "code",
   "execution_count": 39,
   "id": "24019ddb-4434-416d-9f16-43380b687c7f",
   "metadata": {
    "execution": {
     "iopub.execute_input": "2023-12-23T21:26:14.292713Z",
     "iopub.status.busy": "2023-12-23T21:26:14.292124Z",
     "iopub.status.idle": "2023-12-23T21:26:14.299080Z",
     "shell.execute_reply": "2023-12-23T21:26:14.298696Z",
     "shell.execute_reply.started": "2023-12-23T21:26:14.292676Z"
    },
    "tags": []
   },
   "outputs": [],
   "source": [
    "file_to_open = \"input.txt\"\n",
    "with open(file_to_open) as f:\n",
    "    lines = f.read().splitlines()"
   ]
  },
  {
   "cell_type": "markdown",
   "id": "27f33c7d-6d24-4ae9-8aa5-85e20bdd6bb0",
   "metadata": {},
   "source": [
    "# Part 1"
   ]
  },
  {
   "cell_type": "code",
   "execution_count": 25,
   "id": "9f3a39ff-64b2-4302-85f3-d3a9cc001305",
   "metadata": {
    "execution": {
     "iopub.execute_input": "2023-12-23T20:52:32.423111Z",
     "iopub.status.busy": "2023-12-23T20:52:32.422076Z",
     "iopub.status.idle": "2023-12-23T20:52:32.440330Z",
     "shell.execute_reply": "2023-12-23T20:52:32.439404Z",
     "shell.execute_reply.started": "2023-12-23T20:52:32.423076Z"
    }
   },
   "outputs": [],
   "source": [
    "forecasts = []\n",
    "for line in lines:\n",
    "    line = [int(e) for e in line.split(\" \")]\n",
    "    values = line\n",
    "    hist = [line]\n",
    "    while not all(e == 0 for e in values):\n",
    "        diff_val = [a - b for a, b in zip(values[1:], values[:-1])]\n",
    "        hist.append(diff_val)\n",
    "        values = diff_val\n",
    "\n",
    "    forecast = 0\n",
    "    for i in range(len(hist) - 2, -1, -1):\n",
    "        forecast += hist[i][-1]\n",
    "    forecasts.append(forecast)"
   ]
  },
  {
   "cell_type": "code",
   "execution_count": 27,
   "id": "4b617d9b-c91c-46bd-a68e-2422bc7a6648",
   "metadata": {
    "execution": {
     "iopub.execute_input": "2023-12-23T20:53:49.229174Z",
     "iopub.status.busy": "2023-12-23T20:53:49.228716Z",
     "iopub.status.idle": "2023-12-23T20:53:49.239788Z",
     "shell.execute_reply": "2023-12-23T20:53:49.238160Z",
     "shell.execute_reply.started": "2023-12-23T20:53:49.229142Z"
    }
   },
   "outputs": [
    {
     "data": {
      "text/plain": [
       "1853145119"
      ]
     },
     "execution_count": 27,
     "metadata": {},
     "output_type": "execute_result"
    }
   ],
   "source": [
    "sum(forecasts)"
   ]
  },
  {
   "cell_type": "markdown",
   "id": "2ddc2fbb-d204-4c65-ab2b-d53e2321448a",
   "metadata": {
    "execution": {
     "iopub.execute_input": "2023-12-23T20:27:38.193751Z",
     "iopub.status.busy": "2023-12-23T20:27:38.193130Z",
     "iopub.status.idle": "2023-12-23T20:27:38.204615Z",
     "shell.execute_reply": "2023-12-23T20:27:38.202826Z",
     "shell.execute_reply.started": "2023-12-23T20:27:38.193706Z"
    }
   },
   "source": [
    "# Part 2"
   ]
  },
  {
   "cell_type": "code",
   "execution_count": 40,
   "id": "dcfb924d-b62e-4b87-bdd7-ef8b6e577fa9",
   "metadata": {
    "execution": {
     "iopub.execute_input": "2023-12-23T21:26:25.014499Z",
     "iopub.status.busy": "2023-12-23T21:26:25.013846Z",
     "iopub.status.idle": "2023-12-23T21:26:25.036285Z",
     "shell.execute_reply": "2023-12-23T21:26:25.035135Z",
     "shell.execute_reply.started": "2023-12-23T21:26:25.014450Z"
    }
   },
   "outputs": [],
   "source": [
    "forecasts = []\n",
    "for line in lines:\n",
    "    line = [int(e) for e in line.split(\" \")]\n",
    "    values = line\n",
    "    hist = [line]\n",
    "    while not all(e == 0 for e in values):\n",
    "        diff_val = [a - b for a, b in zip(values[1:], values[:-1])]\n",
    "        hist.append(diff_val)\n",
    "        values = diff_val\n",
    "\n",
    "    forecast = hist[-2][0]\n",
    "    for i in range(len(hist) - 3, -1, -1):\n",
    "        forecast = hist[i][0] - forecast\n",
    "    forecasts.append(forecast)\n"
   ]
  },
  {
   "cell_type": "code",
   "execution_count": 42,
   "id": "b4d8f256-d1b1-40cd-9643-302377127933",
   "metadata": {
    "execution": {
     "iopub.execute_input": "2023-12-23T21:26:35.958722Z",
     "iopub.status.busy": "2023-12-23T21:26:35.957741Z",
     "iopub.status.idle": "2023-12-23T21:26:35.974768Z",
     "shell.execute_reply": "2023-12-23T21:26:35.973856Z",
     "shell.execute_reply.started": "2023-12-23T21:26:35.958667Z"
    }
   },
   "outputs": [
    {
     "data": {
      "text/plain": [
       "923"
      ]
     },
     "execution_count": 42,
     "metadata": {},
     "output_type": "execute_result"
    }
   ],
   "source": [
    "sum(forecasts)"
   ]
  },
  {
   "cell_type": "code",
   "execution_count": null,
   "id": "a6320a47-f2f4-41bc-8603-53a64a45a18f",
   "metadata": {},
   "outputs": [],
   "source": []
  }
 ],
 "metadata": {
  "kernelspec": {
   "display_name": "Python [conda env:aoc_py311]",
   "language": "python",
   "name": "conda-env-aoc_py311-py"
  },
  "language_info": {
   "codemirror_mode": {
    "name": "ipython",
    "version": 3
   },
   "file_extension": ".py",
   "mimetype": "text/x-python",
   "name": "python",
   "nbconvert_exporter": "python",
   "pygments_lexer": "ipython3",
   "version": "3.11.6"
  }
 },
 "nbformat": 4,
 "nbformat_minor": 5
}

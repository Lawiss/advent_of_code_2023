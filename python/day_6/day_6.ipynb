{
 "cells": [
  {
   "cell_type": "code",
   "execution_count": 15,
   "id": "fe22258d-0bf9-4deb-9fc0-c95b932cf092",
   "metadata": {
    "execution": {
     "iopub.execute_input": "2023-12-09T18:33:33.242622Z",
     "iopub.status.busy": "2023-12-09T18:33:33.240938Z",
     "iopub.status.idle": "2023-12-09T18:33:33.253105Z",
     "shell.execute_reply": "2023-12-09T18:33:33.251609Z",
     "shell.execute_reply.started": "2023-12-09T18:33:33.242569Z"
    }
   },
   "outputs": [],
   "source": [
    "import math\n",
    "import re"
   ]
  },
  {
   "cell_type": "code",
   "execution_count": 43,
   "id": "8e462111-e166-473a-add7-a2bcec1cb6a8",
   "metadata": {
    "execution": {
     "iopub.execute_input": "2023-12-09T19:03:42.574590Z",
     "iopub.status.busy": "2023-12-09T19:03:42.573405Z",
     "iopub.status.idle": "2023-12-09T19:03:42.583535Z",
     "shell.execute_reply": "2023-12-09T19:03:42.583029Z",
     "shell.execute_reply.started": "2023-12-09T19:03:42.574559Z"
    },
    "tags": []
   },
   "outputs": [],
   "source": [
    "with open(\"example.txt\") as f:\n",
    "    lines_example = f.read().splitlines()\n",
    "\n",
    "times_example = [\n",
    "    int(e) for e in re.split(r\" +\", lines_example[0].split(\":\")[1].strip())\n",
    "]\n",
    "records_example = [\n",
    "    int(e) for e in re.split(r\" +\", lines_example[1].split(\":\")[1].strip())\n",
    "]"
   ]
  },
  {
   "cell_type": "code",
   "execution_count": 48,
   "id": "4f86661e-e0b2-4922-ba5d-a3348ab49673",
   "metadata": {
    "execution": {
     "iopub.execute_input": "2023-12-09T19:07:26.291113Z",
     "iopub.status.busy": "2023-12-09T19:07:26.290634Z",
     "iopub.status.idle": "2023-12-09T19:07:26.304695Z",
     "shell.execute_reply": "2023-12-09T19:07:26.300138Z",
     "shell.execute_reply.started": "2023-12-09T19:07:26.291075Z"
    },
    "tags": []
   },
   "outputs": [],
   "source": [
    "with open(\"input.txt\") as f:\n",
    "    lines = f.read().splitlines()\n",
    "\n",
    "times = [\n",
    "    int(e) for e in re.split(r\" +\", lines[0].split(\":\")[1].strip())\n",
    "]\n",
    "records = [\n",
    "    int(e) for e in re.split(r\" +\", lines[1].split(\":\")[1].strip())\n",
    "]"
   ]
  },
  {
   "cell_type": "code",
   "execution_count": 44,
   "id": "d1b7ef82-55c8-42f5-8d25-15f1f7ecc1a0",
   "metadata": {
    "execution": {
     "iopub.execute_input": "2023-12-09T19:03:42.584712Z",
     "iopub.status.busy": "2023-12-09T19:03:42.584592Z",
     "iopub.status.idle": "2023-12-09T19:03:42.589315Z",
     "shell.execute_reply": "2023-12-09T19:03:42.588803Z",
     "shell.execute_reply.started": "2023-12-09T19:03:42.584700Z"
    }
   },
   "outputs": [
    {
     "data": {
      "text/plain": [
       "([7, 15, 30], [9, 40, 200])"
      ]
     },
     "execution_count": 44,
     "metadata": {},
     "output_type": "execute_result"
    }
   ],
   "source": [
    "times_example, records_example"
   ]
  },
  {
   "cell_type": "code",
   "execution_count": 49,
   "id": "54ef46d9-837e-4d0f-b34a-100c2dbe1aa7",
   "metadata": {
    "execution": {
     "iopub.execute_input": "2023-12-09T19:07:37.242633Z",
     "iopub.status.busy": "2023-12-09T19:07:37.240595Z",
     "iopub.status.idle": "2023-12-09T19:07:37.251116Z",
     "shell.execute_reply": "2023-12-09T19:07:37.250711Z",
     "shell.execute_reply.started": "2023-12-09T19:07:37.242564Z"
    }
   },
   "outputs": [
    {
     "data": {
      "text/plain": [
       "([51, 69, 98, 78], [377, 1171, 1224, 1505])"
      ]
     },
     "execution_count": 49,
     "metadata": {},
     "output_type": "execute_result"
    }
   ],
   "source": [
    "times, records"
   ]
  },
  {
   "cell_type": "markdown",
   "id": "ce546ebf-d9ce-427e-8ee2-71c462deef95",
   "metadata": {},
   "source": [
    "# Part 1"
   ]
  },
  {
   "cell_type": "code",
   "execution_count": 50,
   "id": "024383b8-b398-407a-9025-91b0edc5ae9a",
   "metadata": {
    "execution": {
     "iopub.execute_input": "2023-12-09T19:07:41.900990Z",
     "iopub.status.busy": "2023-12-09T19:07:41.894803Z",
     "iopub.status.idle": "2023-12-09T19:07:41.920898Z",
     "shell.execute_reply": "2023-12-09T19:07:41.916968Z",
     "shell.execute_reply.started": "2023-12-09T19:07:41.900943Z"
    }
   },
   "outputs": [],
   "source": [
    "def resolve(time:int , max_time: int) -> int:\n",
    "    \n",
    "\n",
    "    return (max_time-time)*time"
   ]
  },
  {
   "cell_type": "code",
   "execution_count": 53,
   "id": "c571a7c9-3771-40e8-b455-6a35726b9b48",
   "metadata": {
    "execution": {
     "iopub.execute_input": "2023-12-09T19:07:50.524317Z",
     "iopub.status.busy": "2023-12-09T19:07:50.519748Z",
     "iopub.status.idle": "2023-12-09T19:07:50.538205Z",
     "shell.execute_reply": "2023-12-09T19:07:50.537024Z",
     "shell.execute_reply.started": "2023-12-09T19:07:50.524208Z"
    }
   },
   "outputs": [],
   "source": [
    "sol = 1\n",
    "for time,record in zip(times,records):\n",
    "    winning_d = 0 \n",
    "    for t in range(2,time):\n",
    "        dis = resolve(t,time)\n",
    "        if dis>record:\n",
    "            winning_d+=1\n",
    "    sol*=winning_d"
   ]
  },
  {
   "cell_type": "code",
   "execution_count": 54,
   "id": "4fb66811-3478-420a-9706-b6673cc06b7e",
   "metadata": {
    "execution": {
     "iopub.execute_input": "2023-12-09T19:07:51.492264Z",
     "iopub.status.busy": "2023-12-09T19:07:51.491708Z",
     "iopub.status.idle": "2023-12-09T19:07:51.505903Z",
     "shell.execute_reply": "2023-12-09T19:07:51.504839Z",
     "shell.execute_reply.started": "2023-12-09T19:07:51.492240Z"
    }
   },
   "outputs": [
    {
     "data": {
      "text/plain": [
       "131376"
      ]
     },
     "execution_count": 54,
     "metadata": {},
     "output_type": "execute_result"
    }
   ],
   "source": [
    "sol"
   ]
  },
  {
   "cell_type": "markdown",
   "id": "ead90808-a9e3-4970-b266-62e05588ec59",
   "metadata": {},
   "source": [
    "# Part 2"
   ]
  },
  {
   "cell_type": "code",
   "execution_count": 55,
   "id": "22e071a6-1c35-4798-99c7-4445dbf84a79",
   "metadata": {
    "execution": {
     "iopub.execute_input": "2023-12-09T19:10:16.330980Z",
     "iopub.status.busy": "2023-12-09T19:10:16.329488Z",
     "iopub.status.idle": "2023-12-09T19:10:16.343606Z",
     "shell.execute_reply": "2023-12-09T19:10:16.342271Z",
     "shell.execute_reply.started": "2023-12-09T19:10:16.330861Z"
    }
   },
   "outputs": [],
   "source": [
    "time_example = int(lines_example[0].split(\":\")[1].replace(\" \",\"\"))\n",
    "record_example = int(lines_example[1].split(\":\")[1].replace(\" \",\"\"))"
   ]
  },
  {
   "cell_type": "code",
   "execution_count": 56,
   "id": "aa621443-4a2f-4264-bc00-731c1c8bd910",
   "metadata": {
    "execution": {
     "iopub.execute_input": "2023-12-09T19:10:50.247945Z",
     "iopub.status.busy": "2023-12-09T19:10:50.246703Z",
     "iopub.status.idle": "2023-12-09T19:10:50.255602Z",
     "shell.execute_reply": "2023-12-09T19:10:50.255058Z",
     "shell.execute_reply.started": "2023-12-09T19:10:50.247911Z"
    }
   },
   "outputs": [
    {
     "data": {
      "text/plain": [
       "(71530, 940200)"
      ]
     },
     "execution_count": 56,
     "metadata": {},
     "output_type": "execute_result"
    }
   ],
   "source": [
    "time_example,record_example"
   ]
  },
  {
   "cell_type": "code",
   "execution_count": 61,
   "id": "383620c2-8b5b-4176-84a6-097ccb6966fc",
   "metadata": {
    "execution": {
     "iopub.execute_input": "2023-12-09T19:11:54.465749Z",
     "iopub.status.busy": "2023-12-09T19:11:54.464066Z",
     "iopub.status.idle": "2023-12-09T19:11:54.478283Z",
     "shell.execute_reply": "2023-12-09T19:11:54.477441Z",
     "shell.execute_reply.started": "2023-12-09T19:11:54.465671Z"
    }
   },
   "outputs": [],
   "source": [
    "time = int(lines[0].split(\":\")[1].replace(\" \",\"\"))\n",
    "record = int(lines[1].split(\":\")[1].replace(\" \",\"\"))"
   ]
  },
  {
   "cell_type": "code",
   "execution_count": 70,
   "id": "ef0422e8-4042-4bbc-ae0d-f2ad6a454305",
   "metadata": {
    "execution": {
     "iopub.execute_input": "2023-12-09T19:13:37.306528Z",
     "iopub.status.busy": "2023-12-09T19:13:37.301185Z",
     "iopub.status.idle": "2023-12-09T19:13:46.421389Z",
     "shell.execute_reply": "2023-12-09T19:13:46.419827Z",
     "shell.execute_reply.started": "2023-12-09T19:13:37.306449Z"
    }
   },
   "outputs": [],
   "source": [
    "winning_d = 0 \n",
    "for t in range(2,time):\n",
    "    dis = resolve(t,time)\n",
    "    if dis>record:\n",
    "        winning_d+=1"
   ]
  },
  {
   "cell_type": "code",
   "execution_count": 71,
   "id": "df388a1c-3919-4560-8072-22e48f7dae85",
   "metadata": {
    "execution": {
     "iopub.execute_input": "2023-12-09T19:13:50.482998Z",
     "iopub.status.busy": "2023-12-09T19:13:50.480320Z",
     "iopub.status.idle": "2023-12-09T19:13:50.494286Z",
     "shell.execute_reply": "2023-12-09T19:13:50.493745Z",
     "shell.execute_reply.started": "2023-12-09T19:13:50.482855Z"
    }
   },
   "outputs": [
    {
     "data": {
      "text/plain": [
       "34123437"
      ]
     },
     "execution_count": 71,
     "metadata": {},
     "output_type": "execute_result"
    }
   ],
   "source": [
    "winning_d"
   ]
  },
  {
   "cell_type": "code",
   "execution_count": null,
   "id": "d17a28ee-ca13-4ccd-b0ef-40e62a1d667b",
   "metadata": {},
   "outputs": [],
   "source": []
  }
 ],
 "metadata": {
  "kernelspec": {
   "display_name": "Python [conda env:aoc_py311]",
   "language": "python",
   "name": "conda-env-aoc_py311-py"
  },
  "language_info": {
   "codemirror_mode": {
    "name": "ipython",
    "version": 3
   },
   "file_extension": ".py",
   "mimetype": "text/x-python",
   "name": "python",
   "nbconvert_exporter": "python",
   "pygments_lexer": "ipython3",
   "version": "3.11.6"
  }
 },
 "nbformat": 4,
 "nbformat_minor": 5
}

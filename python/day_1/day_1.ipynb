{
 "cells": [
  {
   "cell_type": "code",
   "execution_count": 14,
   "id": "4e4e5809-89e1-43f8-8e75-8ff420367f57",
   "metadata": {
    "tags": []
   },
   "outputs": [],
   "source": [
    "import numpy as np"
   ]
  },
  {
   "cell_type": "code",
   "execution_count": 7,
   "id": "06491571-60f3-471a-8dbc-1dbfae829bb4",
   "metadata": {
    "tags": []
   },
   "outputs": [],
   "source": [
    "with open(\"input.txt\") as f:\n",
    "    lines = f.read().splitlines()"
   ]
  },
  {
   "cell_type": "markdown",
   "id": "ac69eda9-7d14-42f9-9d3d-355badb73628",
   "metadata": {},
   "source": [
    "# Part 1"
   ]
  },
  {
   "cell_type": "code",
   "execution_count": 12,
   "id": "8922f8e0-a834-4ad2-b650-e4c118389bb9",
   "metadata": {
    "tags": []
   },
   "outputs": [],
   "source": [
    "numbers = []\n",
    "\n",
    "for line in lines:\n",
    "    number = \"\"\n",
    "    for c in line:\n",
    "        if c.isdigit():\n",
    "            number += c\n",
    "            break\n",
    "\n",
    "    for c in line[::-1]:\n",
    "        if c.isdigit():\n",
    "            number += c\n",
    "            break\n",
    "\n",
    "    numbers.append(int(number))"
   ]
  },
  {
   "cell_type": "code",
   "execution_count": 17,
   "id": "bdff762c-5d9a-40c3-ba4d-da5268cdbef2",
   "metadata": {
    "tags": []
   },
   "outputs": [
    {
     "data": {
      "text/plain": [
       "55488"
      ]
     },
     "execution_count": 17,
     "metadata": {},
     "output_type": "execute_result"
    }
   ],
   "source": [
    "np.sum(numbers)"
   ]
  },
  {
   "cell_type": "markdown",
   "id": "90baedba-4856-4b57-9a2a-430736915a85",
   "metadata": {},
   "source": [
    "# Part 2"
   ]
  },
  {
   "cell_type": "code",
   "execution_count": 27,
   "id": "d4925d5b-56b4-474c-b170-cd0170797dbf",
   "metadata": {
    "tags": []
   },
   "outputs": [],
   "source": [
    "numbers_map = {\n",
    "    \"one\": \"1\",\n",
    "    \"two\": \"2\",\n",
    "    \"three\": \"3\",\n",
    "    \"four\": \"4\",\n",
    "    \"five\": \"5\",\n",
    "    \"six\": \"6\",\n",
    "    \"seven\": \"7\",\n",
    "    \"eight\": \"8\",\n",
    "    \"nine\": \"9\",\n",
    "}"
   ]
  },
  {
   "cell_type": "code",
   "execution_count": 42,
   "id": "b12ded88-5932-46f7-bab9-6819086787c2",
   "metadata": {
    "tags": []
   },
   "outputs": [],
   "source": [
    "def get_digit(acc: str) -> str | None:\n",
    "    for k in numbers_map.keys():\n",
    "        if k in acc:\n",
    "            return numbers_map[k]\n",
    "    return None"
   ]
  },
  {
   "cell_type": "code",
   "execution_count": 43,
   "id": "7b3f432c-3d0c-4f7c-b99d-6ddab02dbc60",
   "metadata": {
    "tags": []
   },
   "outputs": [],
   "source": [
    "numbers = []\n",
    "for line in lines:\n",
    "    number = \"\"\n",
    "\n",
    "    acc = \"\"\n",
    "    for c in line:\n",
    "        acc += c\n",
    "        if c.isdigit():\n",
    "            number += c\n",
    "            break\n",
    "        \n",
    "        res = get_digit(acc)\n",
    "        if res is not None:\n",
    "            number += res\n",
    "            break\n",
    "\n",
    "    acc = \"\"\n",
    "    for c in line[::-1]:\n",
    "        acc += c\n",
    "        if c.isdigit():\n",
    "            number += c\n",
    "            break\n",
    "            \n",
    "        res = get_digit(acc[::-1])\n",
    "        if res is not None:\n",
    "            number += res\n",
    "            break\n",
    "\n",
    "    numbers.append(int(number))"
   ]
  },
  {
   "cell_type": "code",
   "execution_count": 45,
   "id": "c4570029-af21-44fd-8d2b-659f3058f610",
   "metadata": {
    "tags": []
   },
   "outputs": [
    {
     "data": {
      "text/plain": [
       "55614"
      ]
     },
     "execution_count": 45,
     "metadata": {},
     "output_type": "execute_result"
    }
   ],
   "source": [
    "np.sum(numbers)"
   ]
  },
  {
   "cell_type": "code",
   "execution_count": null,
   "id": "84d193a7-376e-4dbb-9fa2-0172efdc2975",
   "metadata": {},
   "outputs": [],
   "source": []
  }
 ],
 "metadata": {
  "kernelspec": {
   "display_name": "Python [conda env:aoc_py311]",
   "language": "python",
   "name": "conda-env-aoc_py311-py"
  },
  "language_info": {
   "codemirror_mode": {
    "name": "ipython",
    "version": 3
   },
   "file_extension": ".py",
   "mimetype": "text/x-python",
   "name": "python",
   "nbconvert_exporter": "python",
   "pygments_lexer": "ipython3",
   "version": "3.11.6"
  }
 },
 "nbformat": 4,
 "nbformat_minor": 5
}

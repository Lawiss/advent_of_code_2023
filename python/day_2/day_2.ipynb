{
 "cells": [
  {
   "cell_type": "code",
   "execution_count": 17,
   "id": "f16744d7-3638-4fc7-a834-e0c82c121f33",
   "metadata": {
    "tags": []
   },
   "outputs": [],
   "source": [
    "import math\n",
    "import re"
   ]
  },
  {
   "cell_type": "code",
   "execution_count": 5,
   "id": "a7ee27a0-e24b-4763-a625-ea81e5e8ce58",
   "metadata": {
    "tags": []
   },
   "outputs": [],
   "source": [
    "with open(\"input.txt\") as f:\n",
    "    lines = f.read().splitlines()"
   ]
  },
  {
   "cell_type": "code",
   "execution_count": 8,
   "id": "13002560-7abc-4d6b-995b-b5b434c2a0cb",
   "metadata": {
    "tags": []
   },
   "outputs": [],
   "source": [
    "color_re = re.compile(r\"([0-9]+) (red|green|blue)\")\n",
    "id_re = re.compile(r\"Game ([0-9]+)\")"
   ]
  },
  {
   "cell_type": "markdown",
   "id": "943fce1d-eb5d-4ebe-a175-b6414835f27c",
   "metadata": {
    "tags": []
   },
   "source": [
    "# Part 1"
   ]
  },
  {
   "cell_type": "code",
   "execution_count": 6,
   "id": "b052a2a7-fdde-4b75-8d7e-18d9e247563c",
   "metadata": {
    "tags": []
   },
   "outputs": [],
   "source": [
    "max_red = 12\n",
    "max_green = 13\n",
    "max_blue = 14"
   ]
  },
  {
   "cell_type": "code",
   "execution_count": 7,
   "id": "83ed502b-8637-4848-bc9d-8aa8b5fb0c4e",
   "metadata": {
    "tags": []
   },
   "outputs": [],
   "source": [
    "possible_ids = []"
   ]
  },
  {
   "cell_type": "code",
   "execution_count": 13,
   "id": "b64732c3-1823-487b-9cde-125f13848b70",
   "metadata": {
    "tags": []
   },
   "outputs": [],
   "source": [
    "def is_above_max_colors(sets: list[str]) -> bool:\n",
    "    for match_result in color_re.finditer(sets):\n",
    "        match match_result.groups():\n",
    "            case (value,\"red\"):\n",
    "                if int(value)> max_red:\n",
    "                    return True\n",
    "            case (value,\"green\"):\n",
    "                if int(value)> max_green:\n",
    "                    return True\n",
    "            case (value,\"blue\"):\n",
    "                if int(value)> max_blue:\n",
    "                    return True\n",
    "            case _:\n",
    "                print(match_result.groups())\n",
    "                raise Exception()\n",
    "    return False"
   ]
  },
  {
   "cell_type": "code",
   "execution_count": 14,
   "id": "817c1fe8-4c9b-4fc9-a84a-73e523411df0",
   "metadata": {
    "tags": []
   },
   "outputs": [],
   "source": [
    "for line in lines:\n",
    "    game_id, sets = line.split(\":\")\n",
    "    if not is_above_max_colors(sets):\n",
    "        id_ = int(id_re.match(game_id).group(1))\n",
    "        possible_ids.append(id_)"
   ]
  },
  {
   "cell_type": "code",
   "execution_count": 16,
   "id": "4973eafc-f0a5-4e71-8b8a-c4b8907bac1c",
   "metadata": {
    "tags": []
   },
   "outputs": [
    {
     "data": {
      "text/plain": [
       "2541"
      ]
     },
     "execution_count": 16,
     "metadata": {},
     "output_type": "execute_result"
    }
   ],
   "source": [
    "sum(possible_ids)"
   ]
  },
  {
   "cell_type": "markdown",
   "id": "e69a16cb-8c7f-4421-a925-db6b604b6a41",
   "metadata": {},
   "source": [
    "# Part 2"
   ]
  },
  {
   "cell_type": "code",
   "execution_count": 25,
   "id": "6e293686-b269-41f3-8105-548d20146a98",
   "metadata": {
    "tags": []
   },
   "outputs": [],
   "source": [
    "def product_mins(sets: list[str]) -> bool:\n",
    "    mins = [-math.inf,-math.inf,-math.inf]\n",
    "    for match_result in color_re.finditer(sets):\n",
    "        match match_result.groups():\n",
    "            case (value,\"red\"):\n",
    "                if int(value) > mins[0]:\n",
    "                    mins[0] = int(value)\n",
    "            case (value,\"green\"):\n",
    "                if int(value) > mins[1]:\n",
    "                    mins[1] = int(value)\n",
    "            case (value,\"blue\"):\n",
    "                if int(value) > mins[2]:\n",
    "                    mins[2] = int(value)\n",
    "            case _:\n",
    "                continue\n",
    "    return math.prod(mins)"
   ]
  },
  {
   "cell_type": "code",
   "execution_count": 26,
   "id": "ff869241-98e4-448c-8aa2-ddb588950ec2",
   "metadata": {
    "tags": []
   },
   "outputs": [],
   "source": [
    "products = []"
   ]
  },
  {
   "cell_type": "code",
   "execution_count": 27,
   "id": "be70c956-2639-43fd-93fc-5439185030ba",
   "metadata": {
    "tags": []
   },
   "outputs": [],
   "source": [
    "for line in lines:\n",
    "    game_id, sets = line.split(\":\")\n",
    "    products.append(product_mins(sets))"
   ]
  },
  {
   "cell_type": "code",
   "execution_count": 29,
   "id": "2a670718-3f99-4010-bee4-640506ee69a5",
   "metadata": {
    "tags": []
   },
   "outputs": [
    {
     "data": {
      "text/plain": [
       "66016"
      ]
     },
     "execution_count": 29,
     "metadata": {},
     "output_type": "execute_result"
    }
   ],
   "source": [
    "sum(products)"
   ]
  },
  {
   "cell_type": "code",
   "execution_count": null,
   "id": "97a0671b-89f9-4634-bdff-8c386caae9b3",
   "metadata": {},
   "outputs": [],
   "source": []
  }
 ],
 "metadata": {
  "kernelspec": {
   "display_name": "Python [conda env:aoc_py311]",
   "language": "python",
   "name": "conda-env-aoc_py311-py"
  },
  "language_info": {
   "codemirror_mode": {
    "name": "ipython",
    "version": 3
   },
   "file_extension": ".py",
   "mimetype": "text/x-python",
   "name": "python",
   "nbconvert_exporter": "python",
   "pygments_lexer": "ipython3",
   "version": "3.11.6"
  }
 },
 "nbformat": 4,
 "nbformat_minor": 5
}
